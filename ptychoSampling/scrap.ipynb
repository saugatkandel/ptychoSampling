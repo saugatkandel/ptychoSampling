{
 "cells": [
  {
   "cell_type": "code",
   "execution_count": 1,
   "metadata": {},
   "outputs": [],
   "source": [
    "import numpy as np\n",
    "#from ptychoSampling.reconstruction.recons import ReconstructionT\n",
    "from ptychoSampling.reconstruction.forwardmodel_t import FarfieldForwardModelT\n",
    "from ptychoSampling.reconstruction.wavefront_t import propFF_t, fftshift_t\n",
    "from ptychoSampling.utils.utils import getRandomComplexArray\n",
    "import matplotlib.pyplot as plt\n",
    "import tensorflow as tf\n",
    "from tqdm import tqdm_notebook as tqdm\n",
    "from copy import deepcopy\n",
    "from ptychoSampling.farfield.simulation import Simulation\n",
    "import dill\n",
    "from ptychoSampling.reconstruction.utils.utils import getComputationalCostInFlops\n",
    "from skimage.feature import register_translation"
   ]
  },
  {
   "cell_type": "code",
   "execution_count": 2,
   "metadata": {},
   "outputs": [],
   "source": [
    "%load_ext autoreload\n",
    "%autoreload 2"
   ]
  },
  {
   "cell_type": "code",
   "execution_count": 3,
   "metadata": {},
   "outputs": [],
   "source": [
    "s = Simulation(poisson_noise=False)"
   ]
  },
  {
   "cell_type": "code",
   "execution_count": 4,
   "metadata": {},
   "outputs": [],
   "source": [
    "obj_guess = deepcopy(s.obj)\n",
    "obj_guess.array = getRandomComplexArray(s.obj.shape)"
   ]
  },
  {
   "cell_type": "code",
   "execution_count": 5,
   "metadata": {},
   "outputs": [],
   "source": [
    "position_indices = np.random.permutation(s.intensities.shape[0])"
   ]
  },
  {
   "cell_type": "code",
   "execution_count": 272,
   "metadata": {},
   "outputs": [
    {
     "name": "stderr",
     "output_type": "stream",
     "text": [
      "I1003 11:31:15.977658 140341857142592 forwardmodel_t.py:86] Creating obj views for the scan positions.\n"
     ]
    }
   ],
   "source": [
    "tf.reset_default_graph()\n",
    "fwd_model = FarfieldForwardModelT(obj=obj_guess, probe=s.probe, scan_grid=s.scan_grid)\n",
    "\n",
    "position_indices_t = tf.placeholder(dtype=tf.int32, shape=(1,))\n",
    "train_data_t = tf.reshape(tf.gather(s.intensities ** 0.5, position_indices_t), [-1])\n",
    "\n",
    "obj_view_t = tf.gather(fwd_model._obj_views_all_t, position_indices_t)[0]\n",
    "\n",
    "exit_wave_guess_t = fwd_model.probe_cmplx_t * fftshift_t(obj_view_t)\n",
    "f1_t = propFF_t(exit_wave_guess_t)\n",
    "f2_t = f1_t * tf.cast(tf.reshape(train_data_t, f1.shape)/ (tf.abs(f1_t) + 1e-10), \"complex64\")\n",
    "exit_wave_new_t = propFF_t(f2_t, backward=True)\n",
    "t1_t = tf.conj(fwd_model.probe_cmplx_t) / tf.cast(tf.reduce_max(tf.abs(fwd_model.probe_cmplx_t)**2), \"complex64\")\n",
    "t2_t = exit_wave_new_t - exit_wave_guess_t\n",
    "obj_view_new_t = fftshift_t(obj_view_t + t1_t * t2_t)\n",
    "\n",
    "view_indices_t = tf.gather(fwd_model._obj_view_indices_t, position_indices_t)[0]\n",
    "obj_w_border_new_t = tf.tensor_scatter_update(tf.reshape(fwd_model.obj_w_border_t, [-1]),\n",
    "                                        tf.reshape(view_indices_t, [-1, 1]),\n",
    "                                        tf.reshape(obj_view_new_t, [-1]))\n",
    "obj_w_border_new_t = tf.reshape(obj_w_border_new_t, fwd_model.obj_w_border_t.shape)\n",
    "(s1, s2), (s3, s4) = s.obj.border_shape\n",
    "obj_cmplx_new_t = obj_w_border_new_t[s1: -s2, s3: -s4]\n",
    "\n",
    "obj2_t = tf.reshape(obj_cmplx_new_t, [-1])\n",
    "obj_vals_new_t = tf.concat((tf.real(obj2_t), tf.imag(obj2_t)), axis=0)\n",
    "assign_op = fwd_model.obj_v.assign(obj_vals_new_t)"
   ]
  },
  {
   "cell_type": "code",
   "execution_count": 273,
   "metadata": {},
   "outputs": [],
   "source": [
    "session = tf.Session()\n",
    "session.run(tf.global_variables_initializer())"
   ]
  },
  {
   "cell_type": "code",
   "execution_count": 274,
   "metadata": {},
   "outputs": [],
   "source": [
    "for i in range(10):\n",
    "    for p in position_indices:\n",
    "        session.run(assign_op, feed_dict={position_indices_t: [p]})\n",
    "obj_array_new = session.run(fwd_model.obj_cmplx_t)"
   ]
  },
  {
   "cell_type": "code",
   "execution_count": 38,
   "metadata": {},
   "outputs": [],
   "source": []
  },
  {
   "cell_type": "code",
   "execution_count": 281,
   "metadata": {},
   "outputs": [
    {
     "name": "stderr",
     "output_type": "stream",
     "text": [
      "W1003 11:54:21.118638 140341857142592 deprecation_wrapper.py:119] From /raid/home/skandel/code/sopt/sopt/benchmarks/ops/tensorflow/graph_utils_custom.py:14: The name tf.NodeDef is deprecated. Please use tf.compat.v1.NodeDef instead.\n",
      "\n",
      "W1003 11:54:21.119449 140341857142592 deprecation_wrapper.py:119] From /raid/home/skandel/code/sopt/sopt/benchmarks/ops/tensorflow/graph_utils_custom.py:29: The name tf.GraphDef is deprecated. Please use tf.compat.v1.GraphDef instead.\n",
      "\n",
      "W1003 11:54:21.120096 140341857142592 deprecation_wrapper.py:119] From /raid/home/skandel/code/ptychoSampling_v2/ptychoSampling/reconstruction/utils/utils.py:33: The name tf.profiler.ProfileOptionBuilder is deprecated. Please use tf.compat.v1.profiler.ProfileOptionBuilder instead.\n",
      "\n",
      "W1003 11:54:21.120625 140341857142592 deprecation_wrapper.py:119] From /raid/home/skandel/code/ptychoSampling_v2/ptychoSampling/reconstruction/utils/utils.py:34: The name tf.profiler.profile is deprecated. Please use tf.compat.v1.profiler.profile instead.\n",
      "\n",
      "W1003 11:54:21.224463 140341857142592 deprecation.py:323] From /raid/home/skandel/miniconda3/envs/ad/lib/python3.7/site-packages/tensorflow/python/profiler/internal/flops_registry.py:142: tensor_shape_from_node_def_name (from tensorflow.python.framework.graph_util_impl) is deprecated and will be removed in a future version.\n",
      "Instructions for updating:\n",
      "Use `tf.compat.v1.graph_util.tensor_shape_from_node_def_name`\n"
     ]
    }
   ],
   "source": [
    "flops_count = getComputationalCostInFlops(tf.get_default_graph())"
   ]
  },
  {
   "cell_type": "code",
   "execution_count": 286,
   "metadata": {},
   "outputs": [
    {
     "name": "stdout",
     "output_type": "stream",
     "text": [
      "total_flops 2.57e+11\n"
     ]
    }
   ],
   "source": [
    "total_flops = flops_count * 300 * s.intensities.shape[0]\n",
    "print(f\"total_flops {total_flops:4.3g}\")"
   ]
  },
  {
   "cell_type": "code",
   "execution_count": 9,
   "metadata": {},
   "outputs": [],
   "source": [
    "obj_guess_new = deepcopy(obj_guess)\n",
    "obj_guess_new_2 = deepcopy(obj_guess)"
   ]
  },
  {
   "cell_type": "code",
   "execution_count": 10,
   "metadata": {},
   "outputs": [
    {
     "name": "stdout",
     "output_type": "stream",
     "text": [
      "0.721357268617339 0.721357268617339\n",
      "0.6690823991627957 0.6690823991627957\n",
      "0.6498718158224289 0.6498718158224289\n",
      "0.6417209750480605 0.6417209750480605\n",
      "0.638239395364428 0.638239395364428\n",
      "0.6368542948704048 0.6368542948704048\n",
      "0.6364488629294496 0.6364488629294496\n",
      "0.6363439305701644 0.6363439305701644\n",
      "0.6361816994575951 0.6361816994575951\n",
      "0.6357625593229823 0.6357625593229823\n"
     ]
    }
   ],
   "source": [
    "for i in range(10):\n",
    "    for p in position_indices:\n",
    "        ampl = s.intensities[p] ** 0.5\n",
    "\n",
    "        py, px = s.scan_grid.positions_pix[p]\n",
    "        \n",
    "\n",
    "        obj_view = obj_guess_new.bordered_array[py: py + 64, px: px + 64]\n",
    "        exit_wave_guess = s.probe.wavefront * np.fft.fftshift(obj_view)\n",
    "        \n",
    "        \n",
    "        py, px = s.scan_grid.positions_pix[p]\n",
    "        obj_view2 = obj_guess_new_2.bordered_array[py: py + 64, px: px + 64]\n",
    "\n",
    "        exit_wave2 = np.fft.fftshift(obj_view2) * s.probe.wavefront\n",
    "        \n",
    "        \n",
    "        \n",
    "\n",
    "        f1 = exit_wave_guess.propFF()\n",
    "        f2 = f1 * ampl / (np.abs(f1) + 1e-10)\n",
    "        exit_wave_new = f2.propFF(backward=True)\n",
    "        t1 = np.conj(s.probe.wavefront) / np.max(s.probe.wavefront.intensities)\n",
    "        t2 = exit_wave_new - exit_wave_guess\n",
    "        obj_view_new = obj_view + np.fft.ifftshift(t1 * t2)\n",
    "        \n",
    "        \n",
    "                \n",
    "        f12 = exit_wave2.propFF()\n",
    "        f22 = f12 * s.intensities[p] ** 0.5  / (np.abs(f12) + 1e-10)\n",
    "        #exit_wave_new = np.fft.ifft2(f2, norm='ortho')\n",
    "        exit_wave_new2 = f22.propFF(backward=True)\n",
    "        \n",
    "        t12 = np.conj(s.probe.wavefront) / (np.max(np.abs(s.probe.wavefront)**2))\n",
    "        t22 = exit_wave_new2 - exit_wave2\n",
    "        obj_view_new2 = obj_view2 + np.fft.ifftshift(t12 * t22)\n",
    "        \n",
    "        \n",
    "        \n",
    "        \n",
    "        bordered_array_new = obj_guess_new.bordered_array.copy()\n",
    "        bordered_array_new[py: py + 64, px: px + 64] = obj_view_new\n",
    "\n",
    "        (s1, s2), (s3, s4) = s.obj.border_shape\n",
    "        obj_guess_new.array = bordered_array_new[s1:-s2, s3:-s4]\n",
    "        \n",
    "        \n",
    "        \n",
    "        obj_w_border_new2 = obj_guess_new_2.bordered_array.copy()\n",
    "        obj_w_border_new2[py: py + 64, px: px + 64] = obj_view_new2\n",
    "        (s1, s2), (s3, s4) = obj_guess_new_2.border_shape\n",
    "\n",
    "        obj_guess_new_2.array = obj_w_border_new2[s1: -s2, s3: -s4]\n",
    "        \n",
    "        #print(np.abs(obj_view - obj_view2).sum(),\n",
    "        #      np.abs(f1 - f12).sum(),\n",
    "        #      np.abs(obj_guess_new.array - obj_guess_new_2.array).sum(), \n",
    "        #      np.abs(obj_view_new - obj_view_new2).sum())\n",
    "    \n",
    "    #print(register_translation(obj_guess_new_2.array, obj_guess_new.array))\n",
    "    _, err1, phase = register_translation(s.obj.array, obj_guess_new.array)\n",
    "    _, err1, phase = register_translation(s.obj.array, obj_guess_new.array * np.exp(1j * phase))\n",
    "    \n",
    "    _, err2, phase = register_translation(s.obj.array, obj_guess_new_2.array)\n",
    "    _, err2, phase = register_translation(s.obj.array, obj_guess_new_2.array * np.exp(1j * phase))\n",
    "    \n",
    "    print(err1, err2)"
   ]
  },
  {
   "cell_type": "code",
   "execution_count": 8,
   "metadata": {},
   "outputs": [
    {
     "name": "stdout",
     "output_type": "stream",
     "text": [
      "(array([0., 0.]), 0.7213572686173388, -1.5222992740086427)\n",
      "(array([0., 0.]), 0.6690823991627955, -1.4686010145410362)\n",
      "(array([0., 0.]), 0.6498718158224288, -1.4275759027824164)\n",
      "(array([0., 0.]), 0.6417209750480604, -1.391915023551239)\n",
      "(array([0., 0.]), 0.6382393953644282, -1.3592618305638602)\n",
      "(array([0., 0.]), 0.6368542948704048, -1.3286340785368074)\n",
      "(array([0., 0.]), 0.6364488629294495, -1.299703334443887)\n",
      "(array([0., 0.]), 0.6363439305701641, -1.2723070803227599)\n",
      "(array([0., 0.]), 0.6361816994575952, -1.2461894694184048)\n",
      "(array([0., 0.]), 0.6357625593229825, -1.221322597437943)\n"
     ]
    }
   ],
   "source": [
    "for i in range(10):\n",
    "    for p in position_indices:\n",
    "        py, px = s.scan_grid.positions_pix[p]\n",
    "        obj_view = obj_guess_new_2.bordered_array[py: py + 64, px: px + 64]\n",
    "\n",
    "        exit_wave = np.fft.fftshift(obj_view) * s.probe.wavefront\n",
    "\n",
    "        #f1 = np.fft.fft2(exit_wave, norm=\"ortho\")\n",
    "        f1 = exit_wave.propFF()\n",
    "        f2 = f1 * s.intensities[p] ** 0.5  / (np.abs(f1) + 1e-10)\n",
    "        #exit_wave_new = np.fft.ifft2(f2, norm='ortho')\n",
    "        exit_wave_new = f2.propFF(backward=True)\n",
    "        \n",
    "        t1 = np.conj(s.probe.wavefront) / (np.max(np.abs(s.probe.wavefront)**2))\n",
    "        t2 = exit_wave_new - exit_wave\n",
    "        obj_view_new = obj_view + np.fft.ifftshift(t1 * t2)\n",
    "\n",
    "        obj_w_border_new = obj_guess_new_2.bordered_array.copy()\n",
    "        obj_w_border_new[py: py + 64, px: px + 64] = obj_view_new\n",
    "        (s1, s2), (s3, s4) = obj_guess_new_2.border_shape\n",
    "\n",
    "        obj_guess_new_2.array = obj_w_border_new[s1: -s2, s3: -s4]\n",
    "    print(register_translation(s.obj.array, obj_guess_new_2.array))"
   ]
  },
  {
   "cell_type": "code",
   "execution_count": 11,
   "metadata": {},
   "outputs": [
    {
     "data": {
      "text/plain": [
       "0.0"
      ]
     },
     "execution_count": 11,
     "metadata": {},
     "output_type": "execute_result"
    }
   ],
   "source": [
    "np.abs(obj_guess_new_2.array - obj_guess_new.array).sum()"
   ]
  },
  {
   "cell_type": "code",
   "execution_count": 12,
   "metadata": {},
   "outputs": [
    {
     "data": {
      "image/png": "[encoded data removed]",
      "text/plain": [
       "<Figure size 432x288 with 2 Axes>"
      ]
     },
     "metadata": {
      "needs_background": "light"
     },
     "output_type": "display_data"
    }
   ],
   "source": [
    "plt.pcolormesh(np.abs(obj_guess_new.array))\n",
    "plt.colorbar()\n",
    "plt.show()"
   ]
  },
  {
   "cell_type": "code",
   "execution_count": 13,
   "metadata": {},
   "outputs": [
    {
     "data": {
      "image/png": "[encoded data removed]",
      "text/plain": [
       "<Figure size 432x288 with 2 Axes>"
      ]
     },
     "metadata": {
      "needs_background": "light"
     },
     "output_type": "display_data"
    }
   ],
   "source": [
    "plt.pcolormesh(np.abs(obj_guess_new_2.array))\n",
    "plt.colorbar()\n",
    "plt.show()"
   ]
  },
  {
   "cell_type": "code",
   "execution_count": 16,
   "metadata": {},
   "outputs": [],
   "source": [
    "from ptychoSampling.reconstruction.wavefront_t import propFF_t"
   ]
  },
  {
   "cell_type": "code",
   "execution_count": 19,
   "metadata": {},
   "outputs": [],
   "source": [
    "f12 = f1.astype('complex64')"
   ]
  },
  {
   "cell_type": "code",
   "execution_count": 26,
   "metadata": {},
   "outputs": [],
   "source": [
    "f12b = np.fft.ifft2(f12, norm='ortho')"
   ]
  },
  {
   "cell_type": "code",
   "execution_count": 22,
   "metadata": {},
   "outputs": [
    {
     "name": "stderr",
     "output_type": "stream",
     "text": [
      "WARNING: Logging before flag parsing goes to stderr.\n",
      "W1006 17:45:26.209576 139881707538240 deprecation_wrapper.py:119] From /raid/home/skandel/code/ptychoSampling_v2/ptychoSampling/reconstruction/wavefront_t.py:103: The name tf.ifft2d is deprecated. Please use tf.signal.ifft2d instead.\n",
      "\n"
     ]
    }
   ],
   "source": [
    "f12c = propFF_t(tf.constant(f12, dtype=\"complex64\"), backward=True)"
   ]
  },
  {
   "cell_type": "code",
   "execution_count": 23,
   "metadata": {},
   "outputs": [],
   "source": [
    "sess = tf.Session()\n",
    "sess.run(tf.global_variables_initializer())"
   ]
  },
  {
   "cell_type": "code",
   "execution_count": 24,
   "metadata": {},
   "outputs": [],
   "source": [
    "f12co = sess.run(f12c)"
   ]
  },
  {
   "cell_type": "code",
   "execution_count": 27,
   "metadata": {},
   "outputs": [
    {
     "data": {
      "text/plain": [
       "array([[ 0.0000000e+00+2.3841858e-07j,  0.0000000e+00+0.0000000e+00j,\n",
       "        -9.5367432e-07+2.3841858e-07j, ...,\n",
       "        -4.7683716e-06+1.9073486e-06j, -4.7683716e-06+2.3841858e-06j,\n",
       "        -4.7683716e-06+2.3841858e-06j],\n",
       "       [ 0.0000000e+00-3.5762787e-07j, -4.7683716e-07+1.1920929e-07j,\n",
       "        -9.5367432e-07+0.0000000e+00j, ...,\n",
       "        -4.2915344e-06+1.6689301e-06j, -4.7683716e-06+1.9073486e-06j,\n",
       "        -5.7220459e-06+3.3378601e-06j],\n",
       "       [-4.7683716e-07-2.3841858e-07j, -9.5367432e-07+0.0000000e+00j,\n",
       "        -7.1525574e-07+0.0000000e+00j, ...,\n",
       "        -3.8146973e-06+9.5367432e-07j, -4.2915344e-06+9.5367432e-07j,\n",
       "        -3.3378601e-06+1.1920929e-06j],\n",
       "       ...,\n",
       "       [-1.9073486e-06+1.0728836e-06j, -1.9073486e-06+1.6093254e-06j,\n",
       "        -1.9073486e-06+7.1525574e-07j, ...,\n",
       "        -3.5762787e-06+1.7881393e-06j, -5.2452087e-06+2.6226044e-06j,\n",
       "        -7.1525574e-06+3.9339066e-06j],\n",
       "       [-3.8146973e-06+1.6689301e-06j, -3.8146973e-06+1.4305115e-06j,\n",
       "        -2.1457672e-06+7.1525574e-07j, ...,\n",
       "        -5.7220459e-06+1.4305115e-06j, -9.5367432e-06+2.8610229e-06j,\n",
       "        -9.5367432e-06+4.7683716e-06j],\n",
       "       [-3.8146973e-06+1.4305115e-06j, -3.8146973e-06+1.6689301e-06j,\n",
       "        -2.8610229e-06+1.3113022e-06j, ...,\n",
       "        -5.7220459e-06+2.1457672e-06j, -8.5830688e-06+4.7683716e-06j,\n",
       "        -9.5367432e-06+5.4836273e-06j]], dtype=complex64)"
      ]
     },
     "execution_count": 27,
     "metadata": {},
     "output_type": "execute_result"
    }
   ],
   "source": [
    "f12co - f12b"
   ]
  },
  {
   "cell_type": "code",
   "execution_count": 86,
   "metadata": {},
   "outputs": [],
   "source": [
    "arr1 = np.concatenate((np.real(s.obj.array.flat), np.imag(s.obj.array.flat)))\n",
    "arr2 = np.reshape([np.real(s.obj.array), np.imag(s.obj.array)], [-1])\n",
    "arr3 = np."
   ]
  },
  {
   "cell_type": "code",
   "execution_count": 90,
   "metadata": {},
   "outputs": [
    {
     "data": {
      "text/plain": [
       "0.0"
      ]
     },
     "execution_count": 90,
     "metadata": {},
     "output_type": "execute_result"
    }
   ],
   "source": [
    "np.abs(arr1 - arr2).sum()"
   ]
  },
  {
   "cell_type": "code",
   "execution_count": 87,
   "metadata": {},
   "outputs": [
    {
     "data": {
      "text/plain": [
       "array([0.7977362 , 0.7952584 , 0.74141514, ..., 0.2048352 , 0.18401843,\n",
       "       0.17746323], dtype=float32)"
      ]
     },
     "execution_count": 87,
     "metadata": {},
     "output_type": "execute_result"
    }
   ],
   "source": [
    "arr2"
   ]
  },
  {
   "cell_type": "code",
   "execution_count": 33,
   "metadata": {},
   "outputs": [
    {
     "name": "stderr",
     "output_type": "stream",
     "text": [
      "W1002 16:01:07.063485 140341857142592 deprecation_wrapper.py:119] From /raid/home/skandel/miniconda3/envs/ad/lib/python3.7/site-packages/IPython/core/interactiveshell.py:1733: The name tf.tensor_scatter_update is deprecated. Please use tf.tensor_scatter_nd_update instead.\n",
      "\n"
     ]
    },
    {
     "data": {
      "text/plain": [
       "\u001b[0;31mSignature:\u001b[0m \u001b[0mtf\u001b[0m\u001b[0;34m.\u001b[0m\u001b[0mtensor_scatter_update\u001b[0m\u001b[0;34m(\u001b[0m\u001b[0mtensor\u001b[0m\u001b[0;34m,\u001b[0m \u001b[0mindices\u001b[0m\u001b[0;34m,\u001b[0m \u001b[0mupdates\u001b[0m\u001b[0;34m,\u001b[0m \u001b[0mname\u001b[0m\u001b[0;34m=\u001b[0m\u001b[0;32mNone\u001b[0m\u001b[0;34m)\u001b[0m\u001b[0;34m\u001b[0m\u001b[0;34m\u001b[0m\u001b[0m\n",
       "\u001b[0;31mSource:\u001b[0m   \n",
       "\u001b[0;34m@\u001b[0m\u001b[0m_dispatch\u001b[0m\u001b[0;34m.\u001b[0m\u001b[0madd_dispatch_list\u001b[0m\u001b[0;34m\u001b[0m\n",
       "\u001b[0;34m\u001b[0m\u001b[0;34m@\u001b[0m\u001b[0mtf_export\u001b[0m\u001b[0;34m(\u001b[0m\u001b[0;34m'tensor_scatter_nd_update'\u001b[0m\u001b[0;34m,\u001b[0m \u001b[0mv1\u001b[0m\u001b[0;34m=\u001b[0m\u001b[0;34m[\u001b[0m\u001b[0;34m'tensor_scatter_nd_update'\u001b[0m\u001b[0;34m,\u001b[0m \u001b[0;34m'tensor_scatter_update'\u001b[0m\u001b[0;34m]\u001b[0m\u001b[0;34m)\u001b[0m\u001b[0;34m\u001b[0m\n",
       "\u001b[0;34m\u001b[0m\u001b[0;34m@\u001b[0m\u001b[0mdeprecated_endpoints\u001b[0m\u001b[0;34m(\u001b[0m\u001b[0;34m'tensor_scatter_update'\u001b[0m\u001b[0;34m)\u001b[0m\u001b[0;34m\u001b[0m\n",
       "\u001b[0;34m\u001b[0m\u001b[0;32mdef\u001b[0m \u001b[0mtensor_scatter_update\u001b[0m\u001b[0;34m(\u001b[0m\u001b[0mtensor\u001b[0m\u001b[0;34m,\u001b[0m \u001b[0mindices\u001b[0m\u001b[0;34m,\u001b[0m \u001b[0mupdates\u001b[0m\u001b[0;34m,\u001b[0m \u001b[0mname\u001b[0m\u001b[0;34m=\u001b[0m\u001b[0;32mNone\u001b[0m\u001b[0;34m)\u001b[0m\u001b[0;34m:\u001b[0m\u001b[0;34m\u001b[0m\n",
       "\u001b[0;34m\u001b[0m  \u001b[0;34mr\"\"\"Scatter `updates` into an existing tensor according to `indices`.\u001b[0m\n",
       "\u001b[0;34m\u001b[0m\n",
       "\u001b[0;34m  This operation creates a new tensor by applying sparse `updates` to the passed\u001b[0m\n",
       "\u001b[0;34m  in `tensor`.\u001b[0m\n",
       "\u001b[0;34m  This operation is very similar to `tf.scatter_nd`, except that the updates are\u001b[0m\n",
       "\u001b[0;34m  scattered onto an existing tensor (as opposed to a zero-tensor). If the memory\u001b[0m\n",
       "\u001b[0;34m  for the existing tensor cannot be re-used, a copy is made and updated.\u001b[0m\n",
       "\u001b[0;34m\u001b[0m\n",
       "\u001b[0;34m  If `indices` contains duplicates, then their updates are accumulated (summed).\u001b[0m\n",
       "\u001b[0;34m\u001b[0m\n",
       "\u001b[0;34m  **WARNING**: The order in which updates are applied is nondeterministic, so the\u001b[0m\n",
       "\u001b[0;34m  output will be nondeterministic if `indices` contains duplicates -- because\u001b[0m\n",
       "\u001b[0;34m  of some numerical approximation issues, numbers summed in different order\u001b[0m\n",
       "\u001b[0;34m  may yield different results.\u001b[0m\n",
       "\u001b[0;34m\u001b[0m\n",
       "\u001b[0;34m  `indices` is an integer tensor containing indices into a new tensor of shape\u001b[0m\n",
       "\u001b[0;34m  `shape`.  The last dimension of `indices` can be at most the rank of `shape`:\u001b[0m\n",
       "\u001b[0;34m\u001b[0m\n",
       "\u001b[0;34m      indices.shape[-1] <= shape.rank\u001b[0m\n",
       "\u001b[0;34m\u001b[0m\n",
       "\u001b[0;34m  The last dimension of `indices` corresponds to indices into elements\u001b[0m\n",
       "\u001b[0;34m  (if `indices.shape[-1] = shape.rank`) or slices\u001b[0m\n",
       "\u001b[0;34m  (if `indices.shape[-1] < shape.rank`) along dimension `indices.shape[-1]` of\u001b[0m\n",
       "\u001b[0;34m  `shape`.  `updates` is a tensor with shape\u001b[0m\n",
       "\u001b[0;34m\u001b[0m\n",
       "\u001b[0;34m      indices.shape[:-1] + shape[indices.shape[-1]:]\u001b[0m\n",
       "\u001b[0;34m\u001b[0m\n",
       "\u001b[0;34m  The simplest form of scatter is to insert individual elements in a tensor by\u001b[0m\n",
       "\u001b[0;34m  index. For example, say we want to insert 4 scattered elements in a rank-1\u001b[0m\n",
       "\u001b[0;34m  tensor with 8 elements.\u001b[0m\n",
       "\u001b[0;34m\u001b[0m\n",
       "\u001b[0;34m  <div style=\"width:70%; margin:auto; margin-bottom:10px; margin-top:20px;\">\u001b[0m\n",
       "\u001b[0;34m  <img style=\"width:100%\" src=\"https://www.tensorflow.org/images/ScatterNd1.png\" alt>\u001b[0m\n",
       "\u001b[0;34m  </div>\u001b[0m\n",
       "\u001b[0;34m\u001b[0m\n",
       "\u001b[0;34m  In Python, this scatter operation would look like this:\u001b[0m\n",
       "\u001b[0;34m\u001b[0m\n",
       "\u001b[0;34m  ```python\u001b[0m\n",
       "\u001b[0;34m      indices = tf.constant([[4], [3], [1], [7]])\u001b[0m\n",
       "\u001b[0;34m      updates = tf.constant([9, 10, 11, 12])\u001b[0m\n",
       "\u001b[0;34m      tensor = tf.ones([8], dtype=tf.int32)\u001b[0m\n",
       "\u001b[0;34m      updated = tf.tensor_scatter_update(tensor, indices, updates)\u001b[0m\n",
       "\u001b[0;34m      with tf.Session() as sess:\u001b[0m\n",
       "\u001b[0;34m        print(sess.run(scatter))\u001b[0m\n",
       "\u001b[0;34m  ```\u001b[0m\n",
       "\u001b[0;34m\u001b[0m\n",
       "\u001b[0;34m  The resulting tensor would look like this:\u001b[0m\n",
       "\u001b[0;34m\u001b[0m\n",
       "\u001b[0;34m      [1, 11, 1, 10, 9, 1, 1, 12]\u001b[0m\n",
       "\u001b[0;34m\u001b[0m\n",
       "\u001b[0;34m  We can also, insert entire slices of a higher rank tensor all at once. For\u001b[0m\n",
       "\u001b[0;34m  example, if we wanted to insert two slices in the first dimension of a\u001b[0m\n",
       "\u001b[0;34m  rank-3 tensor with two matrices of new values.\u001b[0m\n",
       "\u001b[0;34m\u001b[0m\n",
       "\u001b[0;34m  In Python, this scatter operation would look like this:\u001b[0m\n",
       "\u001b[0;34m\u001b[0m\n",
       "\u001b[0;34m  ```python\u001b[0m\n",
       "\u001b[0;34m      indices = tf.constant([[0], [2]])\u001b[0m\n",
       "\u001b[0;34m      updates = tf.constant([[[5, 5, 5, 5], [6, 6, 6, 6],\u001b[0m\n",
       "\u001b[0;34m                              [7, 7, 7, 7], [8, 8, 8, 8]],\u001b[0m\n",
       "\u001b[0;34m                             [[5, 5, 5, 5], [6, 6, 6, 6],\u001b[0m\n",
       "\u001b[0;34m                              [7, 7, 7, 7], [8, 8, 8, 8]]])\u001b[0m\n",
       "\u001b[0;34m      tensor = tf.ones([4, 4, 4])\u001b[0m\n",
       "\u001b[0;34m      updated = tf.tensor_scatter_update(tensor, indices, updates)\u001b[0m\n",
       "\u001b[0;34m      with tf.Session() as sess:\u001b[0m\n",
       "\u001b[0;34m        print(sess.run(scatter))\u001b[0m\n",
       "\u001b[0;34m  ```\u001b[0m\n",
       "\u001b[0;34m\u001b[0m\n",
       "\u001b[0;34m  The resulting tensor would look like this:\u001b[0m\n",
       "\u001b[0;34m\u001b[0m\n",
       "\u001b[0;34m      [[[5, 5, 5, 5], [6, 6, 6, 6], [7, 7, 7, 7], [8, 8, 8, 8]],\u001b[0m\n",
       "\u001b[0;34m       [[1, 1, 1, 1], [1, 1, 1, 1], [1, 1, 1, 1], [1, 1, 1, 1]],\u001b[0m\n",
       "\u001b[0;34m       [[5, 5, 5, 5], [6, 6, 6, 6], [7, 7, 7, 7], [8, 8, 8, 8]],\u001b[0m\n",
       "\u001b[0;34m       [[1, 1, 1, 1], [1, 1, 1, 1], [1, 1, 1, 1], [1, 1, 1, 1]]]\u001b[0m\n",
       "\u001b[0;34m\u001b[0m\n",
       "\u001b[0;34m  Note that on CPU, if an out of bound index is found, an error is returned.\u001b[0m\n",
       "\u001b[0;34m  On GPU, if an out of bound index is found, the index is ignored.\u001b[0m\n",
       "\u001b[0;34m\u001b[0m\n",
       "\u001b[0;34m  Args:\u001b[0m\n",
       "\u001b[0;34m    tensor: A `Tensor`. Tensor to copy/update.\u001b[0m\n",
       "\u001b[0;34m    indices: A `Tensor`. Must be one of the following types: `int32`, `int64`.\u001b[0m\n",
       "\u001b[0;34m      Index tensor.\u001b[0m\n",
       "\u001b[0;34m    updates: A `Tensor`. Must have the same type as `tensor`.\u001b[0m\n",
       "\u001b[0;34m      Updates to scatter into output.\u001b[0m\n",
       "\u001b[0;34m    name: A name for the operation (optional).\u001b[0m\n",
       "\u001b[0;34m\u001b[0m\n",
       "\u001b[0;34m  Returns:\u001b[0m\n",
       "\u001b[0;34m    A `Tensor`. Has the same type as `tensor`.\u001b[0m\n",
       "\u001b[0;34m  \"\"\"\u001b[0m\u001b[0;34m\u001b[0m\n",
       "\u001b[0;34m\u001b[0m  \u001b[0m_ctx\u001b[0m \u001b[0;34m=\u001b[0m \u001b[0m_context\u001b[0m\u001b[0;34m.\u001b[0m\u001b[0m_context\u001b[0m \u001b[0;32mor\u001b[0m \u001b[0m_context\u001b[0m\u001b[0;34m.\u001b[0m\u001b[0mcontext\u001b[0m\u001b[0;34m(\u001b[0m\u001b[0;34m)\u001b[0m\u001b[0;34m\u001b[0m\n",
       "\u001b[0;34m\u001b[0m  \u001b[0;32mif\u001b[0m \u001b[0m_ctx\u001b[0m \u001b[0;32mis\u001b[0m \u001b[0;32mnot\u001b[0m \u001b[0;32mNone\u001b[0m \u001b[0;32mand\u001b[0m \u001b[0m_ctx\u001b[0m\u001b[0;34m.\u001b[0m\u001b[0m_thread_local_data\u001b[0m\u001b[0;34m.\u001b[0m\u001b[0mis_eager\u001b[0m\u001b[0;34m:\u001b[0m\u001b[0;34m\u001b[0m\n",
       "\u001b[0;34m\u001b[0m    \u001b[0;32mtry\u001b[0m\u001b[0;34m:\u001b[0m\u001b[0;34m\u001b[0m\n",
       "\u001b[0;34m\u001b[0m      \u001b[0m_result\u001b[0m \u001b[0;34m=\u001b[0m \u001b[0m_pywrap_tensorflow\u001b[0m\u001b[0;34m.\u001b[0m\u001b[0mTFE_Py_FastPathExecute\u001b[0m\u001b[0;34m(\u001b[0m\u001b[0;34m\u001b[0m\n",
       "\u001b[0;34m\u001b[0m        \u001b[0m_ctx\u001b[0m\u001b[0;34m.\u001b[0m\u001b[0m_context_handle\u001b[0m\u001b[0;34m,\u001b[0m \u001b[0m_ctx\u001b[0m\u001b[0;34m.\u001b[0m\u001b[0m_thread_local_data\u001b[0m\u001b[0;34m.\u001b[0m\u001b[0mdevice_name\u001b[0m\u001b[0;34m,\u001b[0m\u001b[0;34m\u001b[0m\n",
       "\u001b[0;34m\u001b[0m        \u001b[0;34m\"TensorScatterUpdate\"\u001b[0m\u001b[0;34m,\u001b[0m \u001b[0mname\u001b[0m\u001b[0;34m,\u001b[0m \u001b[0m_ctx\u001b[0m\u001b[0;34m.\u001b[0m\u001b[0m_post_execution_callbacks\u001b[0m\u001b[0;34m,\u001b[0m \u001b[0mtensor\u001b[0m\u001b[0;34m,\u001b[0m\u001b[0;34m\u001b[0m\n",
       "\u001b[0;34m\u001b[0m        \u001b[0mindices\u001b[0m\u001b[0;34m,\u001b[0m \u001b[0mupdates\u001b[0m\u001b[0;34m)\u001b[0m\u001b[0;34m\u001b[0m\n",
       "\u001b[0;34m\u001b[0m      \u001b[0;32mreturn\u001b[0m \u001b[0m_result\u001b[0m\u001b[0;34m\u001b[0m\n",
       "\u001b[0;34m\u001b[0m    \u001b[0;32mexcept\u001b[0m \u001b[0m_core\u001b[0m\u001b[0;34m.\u001b[0m\u001b[0m_FallbackException\u001b[0m\u001b[0;34m:\u001b[0m\u001b[0;34m\u001b[0m\n",
       "\u001b[0;34m\u001b[0m      \u001b[0;32mtry\u001b[0m\u001b[0;34m:\u001b[0m\u001b[0;34m\u001b[0m\n",
       "\u001b[0;34m\u001b[0m        \u001b[0;32mreturn\u001b[0m \u001b[0mtensor_scatter_update_eager_fallback\u001b[0m\u001b[0;34m(\u001b[0m\u001b[0;34m\u001b[0m\n",
       "\u001b[0;34m\u001b[0m            \u001b[0mtensor\u001b[0m\u001b[0;34m,\u001b[0m \u001b[0mindices\u001b[0m\u001b[0;34m,\u001b[0m \u001b[0mupdates\u001b[0m\u001b[0;34m,\u001b[0m \u001b[0mname\u001b[0m\u001b[0;34m=\u001b[0m\u001b[0mname\u001b[0m\u001b[0;34m,\u001b[0m \u001b[0mctx\u001b[0m\u001b[0;34m=\u001b[0m\u001b[0m_ctx\u001b[0m\u001b[0;34m)\u001b[0m\u001b[0;34m\u001b[0m\n",
       "\u001b[0;34m\u001b[0m      \u001b[0;32mexcept\u001b[0m \u001b[0m_core\u001b[0m\u001b[0;34m.\u001b[0m\u001b[0m_SymbolicException\u001b[0m\u001b[0;34m:\u001b[0m\u001b[0;34m\u001b[0m\n",
       "\u001b[0;34m\u001b[0m        \u001b[0;32mpass\u001b[0m  \u001b[0;31m# Add nodes to the TensorFlow graph.\u001b[0m\u001b[0;34m\u001b[0m\n",
       "\u001b[0;34m\u001b[0m      \u001b[0;32mexcept\u001b[0m \u001b[0;34m(\u001b[0m\u001b[0mTypeError\u001b[0m\u001b[0;34m,\u001b[0m \u001b[0mValueError\u001b[0m\u001b[0;34m)\u001b[0m\u001b[0;34m:\u001b[0m\u001b[0;34m\u001b[0m\n",
       "\u001b[0;34m\u001b[0m        \u001b[0mresult\u001b[0m \u001b[0;34m=\u001b[0m \u001b[0m_dispatch\u001b[0m\u001b[0;34m.\u001b[0m\u001b[0mdispatch\u001b[0m\u001b[0;34m(\u001b[0m\u001b[0;34m\u001b[0m\n",
       "\u001b[0;34m\u001b[0m              \u001b[0mtensor_scatter_update\u001b[0m\u001b[0;34m,\u001b[0m \u001b[0mtensor\u001b[0m\u001b[0;34m=\u001b[0m\u001b[0mtensor\u001b[0m\u001b[0;34m,\u001b[0m \u001b[0mindices\u001b[0m\u001b[0;34m=\u001b[0m\u001b[0mindices\u001b[0m\u001b[0;34m,\u001b[0m\u001b[0;34m\u001b[0m\n",
       "\u001b[0;34m\u001b[0m                                     \u001b[0mupdates\u001b[0m\u001b[0;34m=\u001b[0m\u001b[0mupdates\u001b[0m\u001b[0;34m,\u001b[0m \u001b[0mname\u001b[0m\u001b[0;34m=\u001b[0m\u001b[0mname\u001b[0m\u001b[0;34m)\u001b[0m\u001b[0;34m\u001b[0m\n",
       "\u001b[0;34m\u001b[0m        \u001b[0;32mif\u001b[0m \u001b[0mresult\u001b[0m \u001b[0;32mis\u001b[0m \u001b[0;32mnot\u001b[0m \u001b[0m_dispatch\u001b[0m\u001b[0;34m.\u001b[0m\u001b[0mOpDispatcher\u001b[0m\u001b[0;34m.\u001b[0m\u001b[0mNOT_SUPPORTED\u001b[0m\u001b[0;34m:\u001b[0m\u001b[0;34m\u001b[0m\n",
       "\u001b[0;34m\u001b[0m          \u001b[0;32mreturn\u001b[0m \u001b[0mresult\u001b[0m\u001b[0;34m\u001b[0m\n",
       "\u001b[0;34m\u001b[0m        \u001b[0;32mraise\u001b[0m\u001b[0;34m\u001b[0m\n",
       "\u001b[0;34m\u001b[0m    \u001b[0;32mexcept\u001b[0m \u001b[0m_core\u001b[0m\u001b[0;34m.\u001b[0m\u001b[0m_NotOkStatusException\u001b[0m \u001b[0;32mas\u001b[0m \u001b[0me\u001b[0m\u001b[0;34m:\u001b[0m\u001b[0;34m\u001b[0m\n",
       "\u001b[0;34m\u001b[0m      \u001b[0;32mif\u001b[0m \u001b[0mname\u001b[0m \u001b[0;32mis\u001b[0m \u001b[0;32mnot\u001b[0m \u001b[0;32mNone\u001b[0m\u001b[0;34m:\u001b[0m\u001b[0;34m\u001b[0m\n",
       "\u001b[0;34m\u001b[0m        \u001b[0mmessage\u001b[0m \u001b[0;34m=\u001b[0m \u001b[0me\u001b[0m\u001b[0;34m.\u001b[0m\u001b[0mmessage\u001b[0m \u001b[0;34m+\u001b[0m \u001b[0;34m\" name: \"\u001b[0m \u001b[0;34m+\u001b[0m \u001b[0mname\u001b[0m\u001b[0;34m\u001b[0m\n",
       "\u001b[0;34m\u001b[0m      \u001b[0;32melse\u001b[0m\u001b[0;34m:\u001b[0m\u001b[0;34m\u001b[0m\n",
       "\u001b[0;34m\u001b[0m        \u001b[0mmessage\u001b[0m \u001b[0;34m=\u001b[0m \u001b[0me\u001b[0m\u001b[0;34m.\u001b[0m\u001b[0mmessage\u001b[0m\u001b[0;34m\u001b[0m\n",
       "\u001b[0;34m\u001b[0m      \u001b[0m_six\u001b[0m\u001b[0;34m.\u001b[0m\u001b[0mraise_from\u001b[0m\u001b[0;34m(\u001b[0m\u001b[0m_core\u001b[0m\u001b[0;34m.\u001b[0m\u001b[0m_status_to_exception\u001b[0m\u001b[0;34m(\u001b[0m\u001b[0me\u001b[0m\u001b[0;34m.\u001b[0m\u001b[0mcode\u001b[0m\u001b[0;34m,\u001b[0m \u001b[0mmessage\u001b[0m\u001b[0;34m)\u001b[0m\u001b[0;34m,\u001b[0m \u001b[0;32mNone\u001b[0m\u001b[0;34m)\u001b[0m\u001b[0;34m\u001b[0m\n",
       "\u001b[0;34m\u001b[0m  \u001b[0;31m# Add nodes to the TensorFlow graph.\u001b[0m\u001b[0;34m\u001b[0m\n",
       "\u001b[0;34m\u001b[0m  \u001b[0;32mtry\u001b[0m\u001b[0;34m:\u001b[0m\u001b[0;34m\u001b[0m\n",
       "\u001b[0;34m\u001b[0m    \u001b[0m_\u001b[0m\u001b[0;34m,\u001b[0m \u001b[0m_\u001b[0m\u001b[0;34m,\u001b[0m \u001b[0m_op\u001b[0m \u001b[0;34m=\u001b[0m \u001b[0m_op_def_lib\u001b[0m\u001b[0;34m.\u001b[0m\u001b[0m_apply_op_helper\u001b[0m\u001b[0;34m(\u001b[0m\u001b[0;34m\u001b[0m\n",
       "\u001b[0;34m\u001b[0m        \u001b[0;34m\"TensorScatterUpdate\"\u001b[0m\u001b[0;34m,\u001b[0m \u001b[0mtensor\u001b[0m\u001b[0;34m=\u001b[0m\u001b[0mtensor\u001b[0m\u001b[0;34m,\u001b[0m \u001b[0mindices\u001b[0m\u001b[0;34m=\u001b[0m\u001b[0mindices\u001b[0m\u001b[0;34m,\u001b[0m\u001b[0;34m\u001b[0m\n",
       "\u001b[0;34m\u001b[0m                               \u001b[0mupdates\u001b[0m\u001b[0;34m=\u001b[0m\u001b[0mupdates\u001b[0m\u001b[0;34m,\u001b[0m \u001b[0mname\u001b[0m\u001b[0;34m=\u001b[0m\u001b[0mname\u001b[0m\u001b[0;34m)\u001b[0m\u001b[0;34m\u001b[0m\n",
       "\u001b[0;34m\u001b[0m  \u001b[0;32mexcept\u001b[0m \u001b[0;34m(\u001b[0m\u001b[0mTypeError\u001b[0m\u001b[0;34m,\u001b[0m \u001b[0mValueError\u001b[0m\u001b[0;34m)\u001b[0m\u001b[0;34m:\u001b[0m\u001b[0;34m\u001b[0m\n",
       "\u001b[0;34m\u001b[0m    \u001b[0mresult\u001b[0m \u001b[0;34m=\u001b[0m \u001b[0m_dispatch\u001b[0m\u001b[0;34m.\u001b[0m\u001b[0mdispatch\u001b[0m\u001b[0;34m(\u001b[0m\u001b[0;34m\u001b[0m\n",
       "\u001b[0;34m\u001b[0m          \u001b[0mtensor_scatter_update\u001b[0m\u001b[0;34m,\u001b[0m \u001b[0mtensor\u001b[0m\u001b[0;34m=\u001b[0m\u001b[0mtensor\u001b[0m\u001b[0;34m,\u001b[0m \u001b[0mindices\u001b[0m\u001b[0;34m=\u001b[0m\u001b[0mindices\u001b[0m\u001b[0;34m,\u001b[0m\u001b[0;34m\u001b[0m\n",
       "\u001b[0;34m\u001b[0m                                 \u001b[0mupdates\u001b[0m\u001b[0;34m=\u001b[0m\u001b[0mupdates\u001b[0m\u001b[0;34m,\u001b[0m \u001b[0mname\u001b[0m\u001b[0;34m=\u001b[0m\u001b[0mname\u001b[0m\u001b[0;34m)\u001b[0m\u001b[0;34m\u001b[0m\n",
       "\u001b[0;34m\u001b[0m    \u001b[0;32mif\u001b[0m \u001b[0mresult\u001b[0m \u001b[0;32mis\u001b[0m \u001b[0;32mnot\u001b[0m \u001b[0m_dispatch\u001b[0m\u001b[0;34m.\u001b[0m\u001b[0mOpDispatcher\u001b[0m\u001b[0;34m.\u001b[0m\u001b[0mNOT_SUPPORTED\u001b[0m\u001b[0;34m:\u001b[0m\u001b[0;34m\u001b[0m\n",
       "\u001b[0;34m\u001b[0m      \u001b[0;32mreturn\u001b[0m \u001b[0mresult\u001b[0m\u001b[0;34m\u001b[0m\n",
       "\u001b[0;34m\u001b[0m    \u001b[0;32mraise\u001b[0m\u001b[0;34m\u001b[0m\n",
       "\u001b[0;34m\u001b[0m  \u001b[0m_result\u001b[0m \u001b[0;34m=\u001b[0m \u001b[0m_op\u001b[0m\u001b[0;34m.\u001b[0m\u001b[0moutputs\u001b[0m\u001b[0;34m[\u001b[0m\u001b[0;34m:\u001b[0m\u001b[0;34m]\u001b[0m\u001b[0;34m\u001b[0m\n",
       "\u001b[0;34m\u001b[0m  \u001b[0m_inputs_flat\u001b[0m \u001b[0;34m=\u001b[0m \u001b[0m_op\u001b[0m\u001b[0;34m.\u001b[0m\u001b[0minputs\u001b[0m\u001b[0;34m\u001b[0m\n",
       "\u001b[0;34m\u001b[0m  \u001b[0m_attrs\u001b[0m \u001b[0;34m=\u001b[0m \u001b[0;34m(\u001b[0m\u001b[0;34m\"T\"\u001b[0m\u001b[0;34m,\u001b[0m \u001b[0m_op\u001b[0m\u001b[0;34m.\u001b[0m\u001b[0mget_attr\u001b[0m\u001b[0;34m(\u001b[0m\u001b[0;34m\"T\"\u001b[0m\u001b[0;34m)\u001b[0m\u001b[0;34m,\u001b[0m \u001b[0;34m\"Tindices\"\u001b[0m\u001b[0;34m,\u001b[0m \u001b[0m_op\u001b[0m\u001b[0;34m.\u001b[0m\u001b[0mget_attr\u001b[0m\u001b[0;34m(\u001b[0m\u001b[0;34m\"Tindices\"\u001b[0m\u001b[0;34m)\u001b[0m\u001b[0;34m)\u001b[0m\u001b[0;34m\u001b[0m\n",
       "\u001b[0;34m\u001b[0m  \u001b[0m_execute\u001b[0m\u001b[0;34m.\u001b[0m\u001b[0mrecord_gradient\u001b[0m\u001b[0;34m(\u001b[0m\u001b[0;34m\u001b[0m\n",
       "\u001b[0;34m\u001b[0m      \u001b[0;34m\"TensorScatterUpdate\"\u001b[0m\u001b[0;34m,\u001b[0m \u001b[0m_inputs_flat\u001b[0m\u001b[0;34m,\u001b[0m \u001b[0m_attrs\u001b[0m\u001b[0;34m,\u001b[0m \u001b[0m_result\u001b[0m\u001b[0;34m,\u001b[0m \u001b[0mname\u001b[0m\u001b[0;34m)\u001b[0m\u001b[0;34m\u001b[0m\n",
       "\u001b[0;34m\u001b[0m  \u001b[0m_result\u001b[0m\u001b[0;34m,\u001b[0m \u001b[0;34m=\u001b[0m \u001b[0m_result\u001b[0m\u001b[0;34m\u001b[0m\n",
       "\u001b[0;34m\u001b[0m  \u001b[0;32mreturn\u001b[0m \u001b[0m_result\u001b[0m\u001b[0;34m\u001b[0m\u001b[0;34m\u001b[0m\u001b[0m\n",
       "\u001b[0;31mFile:\u001b[0m      ~/miniconda3/envs/ad/lib/python3.7/site-packages/tensorflow/python/ops/gen_array_ops.py\n",
       "\u001b[0;31mType:\u001b[0m      function\n"
      ]
     },
     "metadata": {},
     "output_type": "display_data"
    }
   ],
   "source": [
    "obj_new = obj_view_new[]"
   ]
  },
  {
   "cell_type": "code",
   "execution_count": null,
   "metadata": {},
   "outputs": [],
   "source": [
    "try:\n",
    "    with open('mabp/obj.pkl', 'rb') as f:\n",
    "        obj = dill.load(f)\n",
    "    with open('mabp/probe_3d.pkl', 'rb') as f:\n",
    "        probe_3d = dill.load(f)\n",
    "    with open('mabp/scan_grid_filtered.pkl', 'rb') as f:\n",
    "        scan_grid = dill.load(f)\n",
    "    with open('mabp/detector.pkl', 'rb') as f:\n",
    "        detector = dill.load(f)\n",
    "    with open('mabp/intensities_filtered.pkl', 'rb') as f:\n",
    "        intensities = dill.load(f)\n",
    "except:\n",
    "    s = Simulation()\n",
    "    obj = deepcopy(s.obj)\n",
    "    probe_3d = deepcopy(s.probe_3d)\n",
    "    detector = deepcopy(s.detector)\n",
    "    scan_grid_filtered, intensities_filtered = s.filterScanPositionsAndIntensities()\n",
    "    \n",
    "    names_items = {'obj':obj, \n",
    "                   'probe_3d':probe_3d, \n",
    "                   'scan_grid_filtered':scan_grid_filtered,\n",
    "                   'detector':detector,\n",
    "                   'intensities_filtered': intensities_filtered,\n",
    "                   'simulation': s}\n",
    "    for n, item in names_items.items():\n",
    "        with open(f'mabp/{n}.pkl', 'wb') as f:\n",
    "            dill.dump(item, f)"
   ]
  },
  {
   "cell_type": "code",
   "execution_count": null,
   "metadata": {},
   "outputs": [],
   "source": [
    "if 0:\n",
    "    with open('mabp/simulation.pkl', 'rb') as f:\n",
    "        s = dill.load(f)\n",
    "else:\n",
    "    s = Simulation(obj=obj, detector=detector, poisson_noise=False)"
   ]
  },
  {
   "cell_type": "code",
   "execution_count": 5,
   "metadata": {},
   "outputs": [],
   "source": [
    "obj_guess = deepcopy(s.obj)\n",
    "obj_guess.array = getRandomComplexArray(shape=obj_guess.array.shape, phase_range=2*np.pi)"
   ]
  },
  {
   "cell_type": "code",
   "execution_count": 6,
   "metadata": {},
   "outputs": [
    {
     "name": "stderr",
     "output_type": "stream",
     "text": [
      "I0924 14:43:29.119124 140473724618560 recons.py:36] creating batches...\n",
      "W0924 14:43:29.620115 140473724618560 deprecation.py:323] From /raid/home/skandel/code/ptychoSampling_v2/ptychoSampling/reconstruction/recons.py:225: DatasetV1.make_one_shot_iterator (from tensorflow.python.data.ops.dataset_ops) is deprecated and will be removed in a future version.\n",
      "Instructions for updating:\n",
      "Use `for ... in dataset:` to iterate over a dataset. If using `tf.estimator`, return the `Dataset` object directly from your input function. As a last resort, you can use `tf.compat.v1.data.make_one_shot_iterator(dataset)`.\n",
      "I0924 14:43:29.706339 140473724618560 recons.py:39] creating log...\n"
     ]
    }
   ],
   "source": [
    "r = ReconstructionT(obj = obj_guess, \n",
    "                    probe=s.probe_3d,\n",
    "                    grid=grid_new,\n",
    "                    intensities=intensities_new,\n",
    "                    batch_size=100,\n",
    "                    n_validation=50)"
   ]
  },
  {
   "cell_type": "code",
   "execution_count": 7,
   "metadata": {},
   "outputs": [
    {
     "name": "stderr",
     "output_type": "stream",
     "text": [
      "I0924 14:43:30.481296 140473724618560 forwardmodel_t.py:28] Creating obj views for the scan positions.\n",
      "I0924 14:43:35.662797 140473724618560 forwardmodel_t.py:224] Creating the phase modulations for the scan angles.\n"
     ]
    }
   ],
   "source": [
    "r.attachForwardModel(\"bragg\")"
   ]
  },
  {
   "cell_type": "code",
   "execution_count": 8,
   "metadata": {},
   "outputs": [
    {
     "name": "stderr",
     "output_type": "stream",
     "text": [
      "W0924 14:43:38.718116 140473724618560 deprecation_wrapper.py:119] From /raid/home/skandel/code/ptychoSampling_v2/ptychoSampling/reconstruction/wavefront_t.py:98: The name tf.fft2d is deprecated. Please use tf.signal.fft2d instead.\n",
      "\n"
     ]
    }
   ],
   "source": [
    "r.attachLossFunction(\"least_squared\")"
   ]
  },
  {
   "cell_type": "code",
   "execution_count": 9,
   "metadata": {},
   "outputs": [
    {
     "name": "stderr",
     "output_type": "stream",
     "text": [
      "W0924 14:43:38.796485 140473724618560 deprecation_wrapper.py:119] From /raid/home/skandel/code/ptychoSampling_v2/ptychoSampling/reconstruction/optimization.py:11: The name tf.train.AdamOptimizer is deprecated. Please use tf.compat.v1.train.AdamOptimizer instead.\n",
      "\n",
      "W0924 14:43:38.927090 140473724618560 deprecation.py:323] From /raid/home/skandel/miniconda3/envs/ad/lib/python3.7/site-packages/tensorflow/python/ops/math_grad.py:1205: add_dispatch_support.<locals>.wrapper (from tensorflow.python.ops.array_ops) is deprecated and will be removed in a future version.\n",
      "Instructions for updating:\n",
      "Use tf.where in 2.0, which has the same broadcast rule as np.where\n"
     ]
    }
   ],
   "source": [
    "r.attachOptimizerPerVariable(\"obj\", optimizer_type=\"adam\", optimizer_args = {\"learning_rate\":1e-2})"
   ]
  },
  {
   "cell_type": "code",
   "execution_count": 10,
   "metadata": {},
   "outputs": [],
   "source": [
    "r.addCustomMetricToDataLog(\"obj_error\", r.fwd_model.obj_cmplx_t, 10, s.obj.array)"
   ]
  },
  {
   "cell_type": "code",
   "execution_count": 11,
   "metadata": {},
   "outputs": [
    {
     "name": "stderr",
     "output_type": "stream",
     "text": [
      "I0924 14:43:39.210630 140473724618560 recons.py:243] finalizing the data logger.\n",
      "I0924 14:43:39.211238 140473724618560 datalogs_t.py:101] Initializing the log outputs...\n",
      "W0924 14:43:39.217918 140473724618560 deprecation_wrapper.py:119] From /raid/home/skandel/code/ptychoSampling_v2/ptychoSampling/reconstruction/recons.py:246: The name tf.ConfigProto is deprecated. Please use tf.compat.v1.ConfigProto instead.\n",
      "\n",
      "I0924 14:43:39.218586 140473724618560 recons.py:248] Initializing the session.\n",
      "W0924 14:43:39.219084 140473724618560 deprecation_wrapper.py:119] From /raid/home/skandel/code/ptychoSampling_v2/ptychoSampling/reconstruction/recons.py:249: The name tf.Session is deprecated. Please use tf.compat.v1.Session instead.\n",
      "\n",
      "W0924 14:43:39.325948 140473724618560 deprecation_wrapper.py:119] From /raid/home/skandel/code/ptychoSampling_v2/ptychoSampling/reconstruction/recons.py:250: The name tf.global_variables_initializer is deprecated. Please use tf.compat.v1.global_variables_initializer instead.\n",
      "\n",
      "I0924 14:43:42.213509 140473724618560 recons.py:251] Finalized setup.\n"
     ]
    }
   ],
   "source": [
    "r.finalizeSetup()"
   ]
  },
  {
   "cell_type": "code",
   "execution_count": 13,
   "metadata": {},
   "outputs": [
    {
     "name": "stdout",
     "output_type": "stream",
     "text": [
      "          epoch  train_loss  validation_loss  validation_min   patience  obj_error\n",
      "1001         35    9.25e+03            7e+03           7e+03         50      0.803\n",
      "1281         45   7.51e+03   4.85e+03   4.85e+03         50       0.78\n",
      "1561         55   4.66e+03   3.93e+03   3.93e+03         50      0.761\n",
      "1841         65   4.62e+03   3.23e+03   3.23e+03         50      0.752\n",
      "2121         75   3.78e+03   2.63e+03   2.63e+03         60       0.74\n",
      "2401         85    3.9e+03   2.25e+03   2.25e+03         75      0.733\n",
      "2681         95   2.13e+03   1.64e+03   1.64e+03         90      0.728\n",
      "2961        105   2.18e+03   1.38e+03   1.38e+03        105      0.725\n",
      "3241        115   1.56e+03   1.18e+03   1.18e+03        120      0.717\n",
      "3521        125   2.01e+03   1.04e+03   1.04e+03        135      0.699\n",
      "3801        135   1.63e+03        919        906        148      0.681\n",
      "4081        145   1.36e+03        852        852        165      0.667\n",
      "4361        155   1.35e+03        832        832        180      0.652\n",
      "4641        165   1.37e+03        823        820        192      0.638\n",
      "4921        175   1.83e+03        802        793        207      0.628\n",
      "5201        185   1.68e+03        821        793        207      0.617\n",
      "5481        195    1.9e+03        914        793        207      0.608\n",
      "5761        205   1.61e+03        957        793        207        0.6\n",
      "6041        215   1.64e+03        900        793        207      0.593\n",
      "6321        225   1.86e+03        936        793        207      0.587\n",
      "6601        235   2.14e+03      1e+03        793        207      0.583\n"
     ]
    }
   ],
   "source": [
    "r.run(10000)"
   ]
  },
  {
   "cell_type": "code",
   "execution_count": 14,
   "metadata": {},
   "outputs": [],
   "source": [
    "from ptychoSampling.utils.register_translation_3d import register_translation_3d"
   ]
  },
  {
   "cell_type": "code",
   "execution_count": 15,
   "metadata": {},
   "outputs": [
    {
     "data": {
      "text/plain": [
       "(array([ 0.,  0., -0.]), 0.6485759689970292, 2.8931046629598227)"
      ]
     },
     "execution_count": 15,
     "metadata": {},
     "output_type": "execute_result"
    }
   ],
   "source": [
    "register_translation_3d(r.obj.array * np.exp(-1j * 2.12), s.obj.array, upsample_factor=10)"
   ]
  },
  {
   "cell_type": "code",
   "execution_count": 16,
   "metadata": {},
   "outputs": [
    {
     "data": {
      "text/plain": [
       "<matplotlib.collections.QuadMesh at 0x7fc2109e0438>"
      ]
     },
     "execution_count": 16,
     "metadata": {},
     "output_type": "execute_result"
    },
    {
     "data": {
      "image/png": "[encoded data removed]",
      "text/plain": [
       "<Figure size 432x288 with 1 Axes>"
      ]
     },
     "metadata": {
      "needs_background": "light"
     },
     "output_type": "display_data"
    }
   ],
   "source": [
    "plt.pcolormesh(np.abs(r.obj.array[11]))"
   ]
  },
  {
   "cell_type": "code",
   "execution_count": 17,
   "metadata": {},
   "outputs": [
    {
     "data": {
      "text/plain": [
       "<matplotlib.collections.QuadMesh at 0x7fc21095a5f8>"
      ]
     },
     "execution_count": 17,
     "metadata": {},
     "output_type": "execute_result"
    },
    {
     "data": {
      "image/png": "[encoded data removed]",
      "text/plain": [
       "<Figure size 432x288 with 1 Axes>"
      ]
     },
     "metadata": {
      "needs_background": "light"
     },
     "output_type": "display_data"
    }
   ],
   "source": [
    "plt.pcolormesh(np.abs(s.obj.array[10]))"
   ]
  },
  {
   "cell_type": "code",
   "execution_count": 23,
   "metadata": {},
   "outputs": [
    {
     "data": {
      "text/plain": [
       "(46, 58, 70)"
      ]
     },
     "execution_count": 23,
     "metadata": {},
     "output_type": "execute_result"
    }
   ],
   "source": [
    "s.obj.array.shape"
   ]
  },
  {
   "cell_type": "code",
   "execution_count": 24,
   "metadata": {},
   "outputs": [
    {
     "data": {
      "text/plain": [
       "(46, 58, 70)"
      ]
     },
     "execution_count": 24,
     "metadata": {},
     "output_type": "execute_result"
    }
   ],
   "source": [
    "r.obj.array.shape"
   ]
  },
  {
   "cell_type": "code",
   "execution_count": 45,
   "metadata": {},
   "outputs": [
    {
     "data": {
      "text/plain": [
       "9.0"
      ]
     },
     "execution_count": 45,
     "metadata": {},
     "output_type": "execute_result"
    }
   ],
   "source": [
    "np.abs(s.obj.array[42,:,:]).sum()"
   ]
  },
  {
   "cell_type": "code",
   "execution_count": 36,
   "metadata": {},
   "outputs": [],
   "source": [
    "a1 = np.arange(36).reshape(6,6)\n",
    "shape = (4, 4)"
   ]
  },
  {
   "cell_type": "code",
   "execution_count": 23,
   "metadata": {},
   "outputs": [],
   "source": [
    "a2 = a1[2:5, 2:5]"
   ]
  },
  {
   "cell_type": "code",
   "execution_count": 24,
   "metadata": {},
   "outputs": [
    {
     "data": {
      "text/plain": [
       "array([[14, 15, 16],\n",
       "       [20, 21, 22],\n",
       "       [26, 27, 28]])"
      ]
     },
     "execution_count": 24,
     "metadata": {},
     "output_type": "execute_result"
    }
   ],
   "source": [
    "a2"
   ]
  },
  {
   "cell_type": "code",
   "execution_count": 25,
   "metadata": {},
   "outputs": [],
   "source": [
    "a2[2:4] = 0"
   ]
  },
  {
   "cell_type": "code",
   "execution_count": 26,
   "metadata": {},
   "outputs": [
    {
     "data": {
      "text/plain": [
       "array([[ 0,  1,  2,  3,  4,  5],\n",
       "       [ 6,  7,  8,  9, 10, 11],\n",
       "       [12, 13, 14, 15, 16, 17],\n",
       "       [18, 19, 20, 21, 22, 23],\n",
       "       [24, 25,  0,  0,  0, 29],\n",
       "       [30, 31, 32, 33, 34, 35]])"
      ]
     },
     "execution_count": 26,
     "metadata": {},
     "output_type": "execute_result"
    }
   ],
   "source": [
    "a1"
   ]
  },
  {
   "cell_type": "code",
   "execution_count": 31,
   "metadata": {},
   "outputs": [],
   "source": [
    "mask = np.full(a1.shape, True)\n",
    "mask[1:5, 1:5] = False"
   ]
  },
  {
   "cell_type": "code",
   "execution_count": 32,
   "metadata": {},
   "outputs": [
    {
     "data": {
      "text/plain": [
       "array([[ True,  True,  True,  True,  True,  True],\n",
       "       [ True, False, False, False, False,  True],\n",
       "       [ True, False, False, False, False,  True],\n",
       "       [ True, False, False, False, False,  True],\n",
       "       [ True, False, False, False, False,  True],\n",
       "       [ True,  True,  True,  True,  True,  True]])"
      ]
     },
     "execution_count": 32,
     "metadata": {},
     "output_type": "execute_result"
    }
   ],
   "source": [
    "mask"
   ]
  },
  {
   "cell_type": "code",
   "execution_count": 33,
   "metadata": {},
   "outputs": [],
   "source": [
    "a1[mask] = 1"
   ]
  },
  {
   "cell_type": "code",
   "execution_count": 34,
   "metadata": {},
   "outputs": [
    {
     "data": {
      "text/plain": [
       "array([[ 1,  1,  1,  1,  1,  1],\n",
       "       [ 1,  7,  8,  9, 10,  1],\n",
       "       [ 1, 13, 14, 15, 16,  1],\n",
       "       [ 1, 19, 20, 21, 22,  1],\n",
       "       [ 1, 25,  0,  0,  0,  1],\n",
       "       [ 1,  1,  1,  1,  1,  1]])"
      ]
     },
     "execution_count": 34,
     "metadata": {},
     "output_type": "execute_result"
    }
   ],
   "source": [
    "a1"
   ]
  },
  {
   "cell_type": "code",
   "execution_count": 38,
   "metadata": {},
   "outputs": [
    {
     "data": {
      "text/plain": [
       "array([[ 7,  8,  9, 10],\n",
       "       [13, 14, 15, 16],\n",
       "       [19, 20, 21, 22],\n",
       "       [25, 26, 27, 28]])"
      ]
     },
     "execution_count": 38,
     "metadata": {},
     "output_type": "execute_result"
    }
   ],
   "source": [
    "a1[~mask].reshape(shape)"
   ]
  },
  {
   "cell_type": "code",
   "execution_count": 39,
   "metadata": {},
   "outputs": [],
   "source": [
    "a1[~mask] = 10"
   ]
  },
  {
   "cell_type": "code",
   "execution_count": 40,
   "metadata": {},
   "outputs": [
    {
     "data": {
      "text/plain": [
       "array([[ 0,  1,  2,  3,  4,  5],\n",
       "       [ 6, 10, 10, 10, 10, 11],\n",
       "       [12, 10, 10, 10, 10, 17],\n",
       "       [18, 10, 10, 10, 10, 23],\n",
       "       [24, 10, 10, 10, 10, 29],\n",
       "       [30, 31, 32, 33, 34, 35]])"
      ]
     },
     "execution_count": 40,
     "metadata": {},
     "output_type": "execute_result"
    }
   ],
   "source": [
    "a1"
   ]
  },
  {
   "cell_type": "code",
   "execution_count": 33,
   "metadata": {},
   "outputs": [],
   "source": [
    "import numpy as np\n",
    "from typing import Tuple, List, Union, Any, Optional\n",
    "import abc\n",
    "import scipy, scipy.stats\n",
    "import skimage, skimage.data, skimage.transform\n",
    "from ptychoSampling.logger import logger\n",
    "import ptychoSampling.utils\n",
    "\n",
    "class Obj(abc.ABC):\n",
    "    \"\"\"\n",
    "    Parameters\n",
    "    ----------\n",
    "    shape : Tuple(int, int)\n",
    "        Number of pixels in each axis of the sample\n",
    "    border_shape : array_like\n",
    "        Number of pixels to add along the border in the left, right, top, and bottom margins of the sample. If\n",
    "        ``border_npix = 10``, then the simulation adds 10 pixels to the left of the sample, and 10 pixels to the\n",
    "        right of the sample, i.e. a total of 20 pixels along the x-direction (and similarly with y). Defaults to ``0``.\n",
    "        The provided value needs to be compatible with the `pad` argument for `numpy.pad`.\n",
    "    border_const : complex\n",
    "        Constant value to fill the border with. Defaults to ``0``.\n",
    "    mod_range : float\n",
    "        Maximum value of the modulus for the sample pixels.\n",
    "    phase_range : float\n",
    "        Maximum value of the phase for the sample pixels.\n",
    "    pixel_size : tuple(float)\n",
    "        Pixel size at the sample plane (assuming square pixels).\n",
    "\n",
    "    Attributes\n",
    "    ----------\n",
    "    shape, border_shape, border_const, mod_range, phase_range : see Parameters\n",
    "    array : ndarray(complex64)\n",
    "        Transmission function for the sample/sample. Shape as defined by the `shape` parameter.\n",
    "    bordered_array : ndarray(complex64)\n",
    "        Transmission function for the sample plus the specified border.\n",
    "\n",
    "    Notes\n",
    "    -----\n",
    "    Problematically, in blind ptychography experiments we encounter the *affine phase ambiguity*, i.e. a phase\n",
    "    gradient (or phase ramp) in both the probe and the sample phases. To avoid this ambiguity, we can add a *known*\n",
    "    border to the sample (a tight support), and fill the border with ones (i.e,. assume the border is transparent).\n",
    "    This is the *bright-field boundary condition* that Albert Fannjiang talks about in [1]_ (also refer to other\n",
    "    works by Fannjiang - [2]_ and [3]_).\n",
    "\n",
    "    Thus, to avoid the affine phase ambiguity, we assume that the sample support is *priorly known*, i.e. we impose\n",
    "    a *tight support*. If we do not remove the affine phase ambiguity this way, then we have to remove the phase\n",
    "    ramp post-reconstruction, which is more difficult and error-prone.\n",
    "\n",
    "    For the far-field ptychography simulations, by adding this border, we can additionally ensure overlapping probe\n",
    "    coverage through the entirety of the sample (including the edges).\n",
    "\n",
    "    We cannot use this approach for the Bragg ptychography case---while we get transmission through empty\n",
    "    space, we do not get diffraction (at the Bragg angle) through empty space. As such, the bright field boundary\n",
    "    condition does not apply.\n",
    "\n",
    "    References\n",
    "    ----------\n",
    "    .. [1] Fannjiang, A. & Zhang, Z. Blind Ptychography by Douglas-Rachford Splitting. 1–21 (2018)\n",
    "        (http://arxiv.org/abs/1809.00962).\n",
    "    .. [2] Fannjiang, A. & Chen, P. Blind Ptychography: Uniqueness and Ambiguities. 1–29 (2018)\n",
    "        (http://arxiv.org/abs/1806.02674).\n",
    "    .. [3] Fannjiang, A. Raster Grid Pathology and the Cure. Multiscale Modeling & Simulation, 17(3), 973-995 (2019).\n",
    "    \"\"\"\n",
    "    def __init__(self, shape: Tuple[int, ...],\n",
    "                 border_shape: Tuple[Tuple[int,int], ...] = 0,\n",
    "                 border_const: complex = 0,\n",
    "                 mod_range: float = None,\n",
    "                 phase_range: float = None,\n",
    "                 pixel_size: Tuple[float,...] = None) -> None:\n",
    "        self.shape = shape\n",
    "        self.mod_range = mod_range\n",
    "        self.phase_range = phase_range\n",
    "        self.pixel_size = pixel_size\n",
    "        self.border_const = border_const\n",
    "        self._border_shape = border_shape\n",
    "\n",
    "        self._setObjArrayValues()\n",
    "\n",
    "    def _setObjArrayValues(self, values: Optional[np.ndarray] = None) -> None:\n",
    "        \"\"\"Set the obj transmission function and add the border.\n",
    "\n",
    "        Performs sanity checks for the 'shape' and '_border_shape' parameters supplied when the class is created. The\n",
    "        'shape' parameter should be tuple-like and composed of integers, formatted so that 'numpy.zeros' accepts it\n",
    "        as an argument for the 'shape' parameter. The '_border_shape' should be formatted so that 'numpy.pad' accepts it\n",
    "        as an argument for the 'pad' parameter.\n",
    "\n",
    "        Sets the values for the 'array' and 'bordered_array' attributes.\n",
    "        Parameters\n",
    "        ----------\n",
    "        values : array_like, optional\n",
    "            Obj array values. For the default value 'None', the function creates an array of zeros.\n",
    "        \"\"\"\n",
    "\n",
    "        if values is None:\n",
    "            try:\n",
    "                values = np.zeros(self.shape)\n",
    "            except Exception as e:\n",
    "                e2 = ValueError(\"Error in input obj shape.\")\n",
    "                logger.error([e, e2])\n",
    "                raise e2 from e\n",
    "                \n",
    "        try:\n",
    "            self.bordered_array = np.pad(values,\n",
    "                                         self._border_shape,\n",
    "                                         mode='constant',\n",
    "                                         constant_values=self.border_const)\n",
    "        except Exception as e:\n",
    "            e2 = ValueError(\"Error in border specifications.\")\n",
    "            logger.error([e, e2])\n",
    "            raise e2 from e\n",
    "        \n",
    "        self._border_mask = np.pad(np.full(self.shape, True),\n",
    "                                   self._border_shape,\n",
    "                                   mode=\"constant\",\n",
    "                                   constant_values=False)\n",
    "        self.array = self.bordered_array[self._border_mask].reshape(self.shape)\n",
    "        \n",
    "\n",
    "    #@property\n",
    "    #def array(self):\n",
    "    #    return self.bordered_array[self._border_mask].reshape(self.shape)\n",
    "    #    #return self._array\n",
    "\n",
    "    #@array.setter\n",
    "    #def array(self, array):\n",
    "    #    self._setObjArrayValues(array)\n",
    "\n",
    "    @property\n",
    "    def border_shape(self):\n",
    "        return self._border_shape\n",
    "\n",
    "    @border_shape.setter\n",
    "    def border_shape(self, border_shape):\n",
    "        values = self.array.copy()\n",
    "        self._border_shape = border_shape\n",
    "        self._setObjArrayValues(values)\n",
    "\n",
    "\n",
    "class CustomObjFromArray(Obj):\n",
    "    r\"\"\"Create a `Obj` using a supplied array of values..\n",
    "\n",
    "    See documentation for `Obj` for information on the attributes.\n",
    "\n",
    "    Parameters\n",
    "    ----------\n",
    "    array: array_like(complex)\n",
    "        Array that contains the obj values.\n",
    "    border_shape, border_const, pixel_size : see documentation for `Obj`.\n",
    "\n",
    "    See also\n",
    "    --------\n",
    "    Probe\n",
    "    \"\"\"\n",
    "\n",
    "    def __init__(self, array: np.ndarray,\n",
    "                 border_shape: Any = 0,\n",
    "                 border_const: complex = 0,\n",
    "                 pixel_size: Tuple[float, ...] = None) -> None:\n",
    "        shape = array.shape\n",
    "        super().__init__(shape, border_shape, border_const, pixel_size=pixel_size)\n",
    "        self._setObjArrayValues(array.copy())\n",
    "\n",
    "\n",
    "class Simulated2DObj(Obj):\n",
    "    r\"\"\"Creates a sample complex-valued obj using stock  data from the skimage library.\n",
    "\n",
    "    Uses the stock camera image for the phase and the stock immunohistochemistry  image (channel 0) for the\n",
    "    modulus [4]_.\n",
    "\n",
    "    See documentation for `Obj` for information on the attributes.\n",
    "\n",
    "    Parameters\n",
    "    ----------\n",
    "    shape : Tuple[int, int]\n",
    "        Shape of 2d obj array. Default is (128, 128).\n",
    "    border_shape : array_like\n",
    "        Default value adds a border of 32 pixels each on the top, bottom, left, and right of the obj array. See\n",
    "        documentation of `Obj` for information on the border shape.\n",
    "    border_const : complex\n",
    "        Default value is 1.0, which corresponds to free space propagation . See documentation of `Obj` for more\n",
    "        information.\n",
    "    mod_range : float\n",
    "        Default value is 1.0. This covers the entire gamut from opaque (0.0) to free space (1.0) propagation.\n",
    "    phase_range : float\n",
    "        Default value is :math:`\\pi`.\n",
    "\n",
    "    See also\n",
    "    --------\n",
    "    Obj\n",
    "\n",
    "    References\n",
    "    ----------\n",
    "    .. [4] https://scikit-image.org/docs/dev/api/skimage.data.html\n",
    "    \"\"\"\n",
    "    def __init__(self, shape=(128, 128),\n",
    "                 border_shape=((32, 32), (32, 32)),\n",
    "                 border_const=1.0,\n",
    "                 mod_range=1.0,\n",
    "                 phase_range=np.pi):\n",
    "        if len(shape) != 2:\n",
    "            e = ValueError('Supplied shape is not 2d.')\n",
    "            logger.error(e)\n",
    "            raise e\n",
    "        super().__init__(shape, border_shape, border_const, mod_range, phase_range)\n",
    "        self._createObj()\n",
    "\n",
    "    def _createObj(self) -> None:\n",
    "        \"\"\"Create the obj array using data from skimage, then set the absolute value and phases using the\n",
    "        specified ranges.\n",
    "        \"\"\"\n",
    "        phase_img = skimage.img_as_float(skimage.data.camera())[::-1, ::-1]\n",
    "        mod_img = skimage.img_as_float(skimage.data.immunohistochemistry()[:, :, 0])[::-1, ::-1]\n",
    "        mod = skimage.transform.resize(mod_img, self.shape,\n",
    "                                       mode='wrap', preserve_range=True)\n",
    "        phase = skimage.transform.resize(phase_img, self.shape,\n",
    "                                         mode='wrap', preserve_range=True)\n",
    "\n",
    "        # Setting the ranges\n",
    "        phase = (phase - np.min(phase)) / (np.max(phase) - np.min(phase)) * self.phase_range\n",
    "        mod = (mod - np.min(mod)) / (np.max(mod) - np.min(mod)) * self.mod_range\n",
    "\n",
    "        # Centering the phase at 0.\n",
    "        phase = np.angle(np.exp(1j * (phase - scipy.stats.circmean(phase))))\n",
    "        obj = (mod * np.exp(1j * phase)).astype('complex64')\n",
    "        self._setObjArrayValues(obj)\n",
    "\n",
    "\n",
    "class Simulated3DCrystalCell(Obj):\n",
    "    r\"\"\"Creates a sample complex-valued crystal cell.\n",
    "\n",
    "    The output is non-deterministic.\n",
    "\n",
    "    Parameters\n",
    "    ----------\n",
    "    mesh_shape : Tuple[int, int, int]\n",
    "        Number of points to use for the Delauney mesh generation. Note that this is **NOT** the shape of the final\n",
    "        generated crystal cell. The final shape is non-deterministic.\n",
    "    border_shape : array_like\n",
    "        Default value adds a border of 32 pixels each on the top, bottom, left, and right of the obj array. See\n",
    "        documentation of `Obj` for information on the border shape.\n",
    "    border_const : complex\n",
    "        Default value is 1.0, which corresponds to free space propagation . See documentation of `Obj` for more\n",
    "        information.\n",
    "\n",
    "    See also\n",
    "    --------\n",
    "    Obj\n",
    "    utils.generateCrystalCell3D\n",
    "\n",
    "    Notes\n",
    "    -----\n",
    "    * Since the crystal cell is generated randomly at each call of `utils.generateCrystalCell3D`, the output is not\n",
    "        deterministic.\n",
    "    * Based on conversations with Marc Allain ( I might have misinterpreted him...), for Bragg ptychography:\n",
    "        - the border shape should be set so that the sample support is restricted along the line perpendicular to the\n",
    "            exit wave direction (in the plane  that contains the rocking curve). I think that applying a *known* border\n",
    "            such that the number of pixels here is :math:`>2\\times` the support (or reconstruction\n",
    "            variable) size in this direction should provide sufficient oversampling.\n",
    "        - For ptychography, in the probe translation plane, we generally want the object array size to be\n",
    "            :math:`>2\\times` the size of the probe\n",
    "\n",
    "    \"\"\"\n",
    "    def __init__(self, mesh_shape: Tuple[int, int, int] = (128, 128, 128),\n",
    "                 border_shape=((0,0), (0,0), (0,0)),\n",
    "                 border_const=0.0,\n",
    "                 pixel_size=None):\n",
    "        if len(mesh_shape) != 3:\n",
    "            e = ValueError('Supplied shape is not 3d.')\n",
    "            logger.error(e)\n",
    "            raise e\n",
    "\n",
    "        self.border_const = border_const\n",
    "        self._border_shape = border_shape\n",
    "        self.pixel_size = pixel_size\n",
    "\n",
    "        self.mod_range = None\n",
    "        self.phase_range = None\n",
    "\n",
    "        self._createObj()\n",
    "        self.shape = self.array.shape\n",
    "\n",
    "    def _createObj(self) -> None:\n",
    "\n",
    "        from ptychoSampling.utils.generateCrystalCell3D import generateCrystalCell, trimAndPadCell\n",
    "        cell = generateCrystalCell(x_points=128, y_points=128, z_points=128)\n",
    "        cell = trimAndPadCell(cell)\n",
    "        self._setObjArrayValues(cell)\n"
   ]
  },
  {
   "cell_type": "code",
   "execution_count": 99,
   "metadata": {},
   "outputs": [],
   "source": [
    "o2d = Simulated2DObj(shape=(5, 5), border_shape=((1, 1), (1, 1)))"
   ]
  },
  {
   "cell_type": "code",
   "execution_count": 100,
   "metadata": {},
   "outputs": [],
   "source": [
    "array_slices = tuple([slice(b[0], -b[1]) for b in o2d.border_shape])"
   ]
  },
  {
   "cell_type": "code",
   "execution_count": 101,
   "metadata": {},
   "outputs": [],
   "source": [
    "array_new = o2d.bordered_array[array_slices]"
   ]
  },
  {
   "cell_type": "code",
   "execution_count": 102,
   "metadata": {},
   "outputs": [],
   "source": [
    "array_new = 5"
   ]
  },
  {
   "cell_type": "code",
   "execution_count": 107,
   "metadata": {},
   "outputs": [],
   "source": [
    "shape = (5, 5, 5)"
   ]
  },
  {
   "cell_type": "code",
   "execution_count": 109,
   "metadata": {},
   "outputs": [
    {
     "data": {
      "text/plain": [
       "((0, 0), (0, 0), (0, 0))"
      ]
     },
     "execution_count": 109,
     "metadata": {},
     "output_type": "execute_result"
    }
   ],
   "source": [
    "tuple((0, 0) for i in range(len(shape)))"
   ]
  },
  {
   "cell_type": "code",
   "execution_count": 69,
   "metadata": {},
   "outputs": [],
   "source": [
    "o2d.bordered_array += 10"
   ]
  },
  {
   "cell_type": "code",
   "execution_count": 89,
   "metadata": {},
   "outputs": [],
   "source": [
    "array_new[2:3] = 1000"
   ]
  },
  {
   "cell_type": "code",
   "execution_count": 90,
   "metadata": {},
   "outputs": [
    {
     "data": {
      "text/plain": [
       "array([[   1.      +0.j        ,    1.      +0.j        ,\n",
       "           1.      +0.j        ,    1.      +0.j        ,\n",
       "           1.      +0.j        ,    1.      +0.j        ,\n",
       "           1.      +0.j        ],\n",
       "       [   1.      +0.j        ,   10.998984+0.04505691j,\n",
       "          10.576295+0.09464422j,   10.64214 +0.07482475j,\n",
       "          10.355867-0.4913203j ,   10.613377-0.33834833j,\n",
       "           1.      +0.j        ],\n",
       "       [   1.      +0.j        ,   10.991077-0.01158942j,\n",
       "          10.636133-0.04613522j,   10.664955-0.31593272j,\n",
       "           9.685742-0.7043967j ,   10.448448-0.68287885j,\n",
       "           1.      +0.j        ],\n",
       "       [   1.      +0.j        , 1000.      +0.j        ,\n",
       "        1000.      +0.j        , 1000.      +0.j        ,\n",
       "        1000.      +0.j        , 1000.      +0.j        ,\n",
       "           1.      +0.j        ],\n",
       "       [   1.      +0.j        ,   10.341619+0.38545495j,\n",
       "          10.291846+0.28979668j,   10.163595-0.13935146j,\n",
       "          10.      +0.j        ,   10.124393+0.07868692j,\n",
       "           1.      +0.j        ],\n",
       "       [   1.      +0.j        ,   10.457033+0.426962j  ,\n",
       "          10.224245+0.32825002j,   10.168455+0.13472421j,\n",
       "          10.137394+0.11029457j,   10.202674+0.19315557j,\n",
       "           1.      +0.j        ],\n",
       "       [   1.      +0.j        ,    1.      +0.j        ,\n",
       "           1.      +0.j        ,    1.      +0.j        ,\n",
       "           1.      +0.j        ,    1.      +0.j        ,\n",
       "           1.      +0.j        ]], dtype=complex64)"
      ]
     },
     "execution_count": 90,
     "metadata": {},
     "output_type": "execute_result"
    }
   ],
   "source": [
    "o2d.bordered_array"
   ]
  },
  {
   "cell_type": "code",
   "execution_count": 26,
   "metadata": {},
   "outputs": [
    {
     "data": {
      "text/plain": [
       "<numpy.lib.index_tricks.IndexExpression at 0x7fe95d160b70>"
      ]
     },
     "execution_count": 26,
     "metadata": {},
     "output_type": "execute_result"
    }
   ],
   "source": [
    "np.s_"
   ]
  },
  {
   "cell_type": "code",
   "execution_count": 28,
   "metadata": {},
   "outputs": [
    {
     "data": {
      "text/plain": [
       "(slice(2, 4, None), slice(4, 6, None))"
      ]
     },
     "execution_count": 28,
     "metadata": {},
     "output_type": "execute_result"
    }
   ],
   "source": [
    "np.index_exp[2:4, 4:6]"
   ]
  },
  {
   "cell_type": "code",
   "execution_count": 38,
   "metadata": {},
   "outputs": [],
   "source": [
    "array_slices = tuple([slice(b1,-b2) for (b1, b2) in o2d.border_shape])"
   ]
  },
  {
   "cell_type": "code",
   "execution_count": 39,
   "metadata": {},
   "outputs": [
    {
     "data": {
      "text/plain": [
       "(slice(10, -10, None), slice(10, -10, None))"
      ]
     },
     "execution_count": 39,
     "metadata": {},
     "output_type": "execute_result"
    }
   ],
   "source": [
    "array_slices"
   ]
  },
  {
   "cell_type": "code",
   "execution_count": 40,
   "metadata": {},
   "outputs": [
    {
     "data": {
      "text/plain": [
       "array([], dtype=complex128)"
      ]
     },
     "execution_count": 40,
     "metadata": {},
     "output_type": "execute_result"
    }
   ],
   "source": [
    "np.arange(-1, 1, 6j)"
   ]
  },
  {
   "cell_type": "code",
   "execution_count": 43,
   "metadata": {},
   "outputs": [
    {
     "data": {
      "text/plain": [
       "array([-1. , -0.6, -0.2,  0.2,  0.6,  1. ])"
      ]
     },
     "execution_count": 43,
     "metadata": {},
     "output_type": "execute_result"
    }
   ],
   "source": [
    "np.r_[-1:1:6j]"
   ]
  },
  {
   "cell_type": "code",
   "execution_count": 44,
   "metadata": {},
   "outputs": [],
   "source": [
    "arr = np.arange(10)"
   ]
  },
  {
   "cell_type": "code",
   "execution_count": 45,
   "metadata": {},
   "outputs": [
    {
     "data": {
      "text/plain": [
       "(8,)"
      ]
     },
     "execution_count": 45,
     "metadata": {},
     "output_type": "execute_result"
    }
   ],
   "source": [
    "arr.strides"
   ]
  },
  {
   "cell_type": "code",
   "execution_count": 46,
   "metadata": {},
   "outputs": [
    {
     "data": {
      "text/plain": [
       "(10,)"
      ]
     },
     "execution_count": 46,
     "metadata": {},
     "output_type": "execute_result"
    }
   ],
   "source": [
    "arr.shape"
   ]
  },
  {
   "cell_type": "code",
   "execution_count": 47,
   "metadata": {},
   "outputs": [
    {
     "data": {
      "text/plain": [
       "(8,)"
      ]
     },
     "execution_count": 47,
     "metadata": {},
     "output_type": "execute_result"
    }
   ],
   "source": [
    "arr.strides"
   ]
  },
  {
   "cell_type": "code",
   "execution_count": 48,
   "metadata": {},
   "outputs": [],
   "source": [
    "a = np.array([1,5,1,2,5,7,8,2,4,1,5,6,7])"
   ]
  },
  {
   "cell_type": "code",
   "execution_count": 49,
   "metadata": {},
   "outputs": [
    {
     "data": {
      "text/plain": [
       "array([1, 5, 1, 2, 5, 7, 8, 2, 4, 1, 5, 6, 7])"
      ]
     },
     "execution_count": 49,
     "metadata": {},
     "output_type": "execute_result"
    }
   ],
   "source": [
    "a"
   ]
  },
  {
   "cell_type": "code",
   "execution_count": 50,
   "metadata": {},
   "outputs": [],
   "source": [
    "b, inverse = np.unique(a, return_inverse=True)"
   ]
  },
  {
   "cell_type": "code",
   "execution_count": 52,
   "metadata": {},
   "outputs": [
    {
     "data": {
      "text/plain": [
       "(array([1, 2, 4, 5, 6, 7, 8]), array([0, 3, 0, 1, 3, 5, 6, 1, 2, 0, 3, 4, 5]))"
      ]
     },
     "execution_count": 52,
     "metadata": {},
     "output_type": "execute_result"
    }
   ],
   "source": [
    "b, inverse"
   ]
  },
  {
   "cell_type": "code",
   "execution_count": 56,
   "metadata": {},
   "outputs": [
    {
     "data": {
      "text/plain": [
       "array([1, 5, 1, 2, 5, 7, 8, 2, 4, 1, 5, 6, 7])"
      ]
     },
     "execution_count": 56,
     "metadata": {},
     "output_type": "execute_result"
    }
   ],
   "source": [
    "b[inverse]"
   ]
  },
  {
   "cell_type": "code",
   "execution_count": 54,
   "metadata": {},
   "outputs": [
    {
     "data": {
      "text/plain": [
       "array([1, 2, 1, 5, 2, 7, 8, 5, 1, 1, 2, 5, 7])"
      ]
     },
     "execution_count": 54,
     "metadata": {},
     "output_type": "execute_result"
    }
   ],
   "source": []
  },
  {
   "cell_type": "code",
   "execution_count": 58,
   "metadata": {},
   "outputs": [],
   "source": [
    "b_new = np.arange(b.shape[0])"
   ]
  },
  {
   "cell_type": "code",
   "execution_count": 59,
   "metadata": {},
   "outputs": [
    {
     "data": {
      "text/plain": [
       "array([0, 1, 2, 3, 4, 5, 6])"
      ]
     },
     "execution_count": 59,
     "metadata": {},
     "output_type": "execute_result"
    }
   ],
   "source": [
    "b_new"
   ]
  },
  {
   "cell_type": "code",
   "execution_count": 60,
   "metadata": {},
   "outputs": [
    {
     "data": {
      "text/plain": [
       "array([0, 3, 0, 1, 3, 5, 6, 1, 2, 0, 3, 4, 5])"
      ]
     },
     "execution_count": 60,
     "metadata": {},
     "output_type": "execute_result"
    }
   ],
   "source": [
    "b_new[inverse]"
   ]
  },
  {
   "cell_type": "code",
   "execution_count": null,
   "metadata": {},
   "outputs": [],
   "source": []
  }
 ],
 "metadata": {
  "kernelspec": {
   "display_name": "Python 3",
   "language": "python",
   "name": "python3"
  },
  "language_info": {
   "codemirror_mode": {
    "name": "ipython",
    "version": 3
   },
   "file_extension": ".py",
   "mimetype": "text/x-python",
   "name": "python",
   "nbconvert_exporter": "python",
   "pygments_lexer": "ipython3",
   "version": "3.7.3"
  }
 },
 "nbformat": 4,
 "nbformat_minor": 4
}
